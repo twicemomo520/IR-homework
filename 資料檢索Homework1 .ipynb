{
 "cells": [
  {
   "cell_type": "code",
   "execution_count": 1,
   "metadata": {},
   "outputs": [],
   "source": [
    "import os"
   ]
  },
  {
   "cell_type": "code",
   "execution_count": 204,
   "metadata": {},
   "outputs": [],
   "source": [
    "with open('C:/Users/123/Desktop/doc_list.txt') as f:\n",
    "     lines = f.read().splitlines()    "
   ]
  },
  {
   "cell_type": "code",
   "execution_count": 205,
   "metadata": {},
   "outputs": [],
   "source": [
    "def get_all_document_content():\n",
    "    path = \"C:/Users/123/Desktop/Document\"\n",
    "    files= os.listdir(path)#載入全部檔案\n",
    "    filename_list = []\n",
    "    for filename in files:\n",
    "        strtemp = ''\n",
    "        f = open(path + '/' + filename )\n",
    "        file = f.readlines()\n",
    "        for i in range(3):\n",
    "            file.pop(0)\n",
    "        for line in file:\n",
    "            strtemp = strtemp + line.rstrip(\"-1\\n\")    \n",
    "        filename_list.append(strtemp)\n",
    "    return filename_list    "
   ]
  },
  {
   "cell_type": "code",
   "execution_count": 156,
   "metadata": {},
   "outputs": [],
   "source": [
    "import os\n",
    "import collections\n",
    "\n",
    "def all_document_word_dictionary():\n",
    "\n",
    "    fname = \"C:/Users/123/Desktop/document_word.txt\"\n",
    "    f = open(fname, 'w')\n",
    "\n",
    "    s = get_all_document_content() \n",
    "    file_content_string = \" \".join(s)\n",
    "    result = []\n",
    "    file_content_string_split = file_content_string.split()\n",
    "\n",
    "    for word in file_content_string_split:\n",
    "        if word not in result:\n",
    "            result.append(word)\n",
    "            f.write(word+\"\\n\")\n",
    "            \n",
    "    ss = querycontent\n",
    "    querycontent_string = \" \".join(ss)\n",
    "    querycontent_string_split = querycontent_string.split()\n",
    "    for word in querycontent_string_split:       \n",
    "        if word not in result:\n",
    "            result.append(word)  \n",
    "            f.write(word+\"\\n\")\n",
    "    return result   \n"
   ]
  },
  {
   "cell_type": "code",
   "execution_count": 206,
   "metadata": {},
   "outputs": [],
   "source": [
    "query_files_name = []\n",
    "f = open(\"C:/Users/123/Desktop/query_list.txt\")\n",
    "liness = f.read().splitlines()\n"
   ]
  },
  {
   "cell_type": "code",
   "execution_count": 7,
   "metadata": {},
   "outputs": [],
   "source": [
    "def query_TF():\n",
    "    document_word_dictionary = all_document_word_dictionary\n",
    "    query_dictionary_all = query_dictionary()\n",
    "\n",
    "    fname = 'C:/Users/123/Desktop/query_TF.txt'\n",
    "    res =  os.path.isfile(fname) \n",
    "    \n",
    "    if res:\n",
    "        pass\n",
    "    else:    \n",
    "        f = open(fname, 'w')\n",
    "        for number in document_word_dictionary:\n",
    "            strWrite2 = str(number)\n",
    "            for one_query in query_dictionary_all:\n",
    "                strWrite2 = strWrite2 + \" \" + str(one_query[\"query_content\"].count(number))\n",
    "            f.write(strWrite2 + \"\\n\")\n",
    "        f.close()\n",
    "\n",
    "    "
   ]
  },
  {
   "cell_type": "code",
   "execution_count": 207,
   "metadata": {},
   "outputs": [],
   "source": [
    "with open('C:/Users/123/Desktop/query_TF.txt') as dd:\n",
    "     ddd = dd.read().splitlines()\n"
   ]
  },
  {
   "cell_type": "code",
   "execution_count": 51,
   "metadata": {
    "scrolled": true
   },
   "outputs": [
    {
     "data": {
      "text/plain": [
       "13290"
      ]
     },
     "execution_count": 51,
     "metadata": {},
     "output_type": "execute_result"
    }
   ],
   "source": [
    "len(ddd)"
   ]
  },
  {
   "cell_type": "code",
   "execution_count": 54,
   "metadata": {},
   "outputs": [],
   "source": [
    "import math\n",
    "def document_IDF():\n",
    "    allDocumentNumber = 2265.0\n",
    "    fname = \"C:/Users/123/Desktop/document_IDF.txt\"\n",
    "\n",
    "    f = open(fname, 'w')\n",
    "    dIDFs = []\n",
    "    \n",
    "    document_word_dictionary = all_document_word_dictionary()\n",
    "    call_get_all_document_content = get_all_document_content()\n",
    "    \n",
    "    for sub in document_word_dictionary:\n",
    "        dIDF = {}\n",
    "        dIDFsub = 0\n",
    "\n",
    "        for fv in call_get_all_document_content:\n",
    "            if sub in fv.split():\n",
    "                dIDFsub = dIDFsub + 1\n",
    "        idfNum = math.log(1+ allDocumentNumber / dIDFsub)\n",
    "        strWrite = sub + \" \"  + str(idfNum)\n",
    "\n",
    "        f.write(strWrite + \"\\n\")\n",
    "    f.close()\n",
    "    "
   ]
  },
  {
   "cell_type": "code",
   "execution_count": 44,
   "metadata": {},
   "outputs": [
    {
     "data": {
      "text/plain": [
       "13290"
      ]
     },
     "execution_count": 44,
     "metadata": {},
     "output_type": "execute_result"
    }
   ],
   "source": [
    "with open('C:/Users/123/Desktop/document_word.txt') as yy:\n",
    "     wordnumber  = yy.read().splitlines()   \n",
    "len(wordnumber)        "
   ]
  },
  {
   "cell_type": "code",
   "execution_count": 168,
   "metadata": {},
   "outputs": [],
   "source": [
    "import os\n",
    "import math\n",
    "import numpy as np\n",
    "\n",
    "\n",
    "with open('C:/Users/123/Desktop/document_IDF.txt') as ff:\n",
    "     idfList = ff.read().splitlines()\n",
    "with open('C:/Users/123/Desktop/query_TF.txt') as dd:\n",
    "     queryTF = dd.read().splitlines()\n",
    "with open('C:/Users/123/Desktop/document_word.txt') as yy:\n",
    "     wordnumber  = yy.read().splitlines()   \n",
    "\n",
    "        \n",
    "queryIndex = 0\n",
    "    \n",
    "\n",
    "idfL = []\n",
    "for i in range(len(wordnumber)):\n",
    "    a_temp = float(idfList[i].split()[1])\n",
    "    idfL.append(a_temp)"
   ]
  },
  {
   "cell_type": "code",
   "execution_count": 178,
   "metadata": {},
   "outputs": [],
   "source": [
    "qtfL = []\n",
    "for i in range(16):    \n",
    "    qtfL16 = []\n",
    "    for j in range(len(wordnumber)):    \n",
    "        b_temp = float(queryTF[j].split()[i+1])\n",
    "        qtfL16.append(b_temp)\n",
    "    qtfL.append(qtfL16)    \n"
   ]
  },
  {
   "cell_type": "code",
   "execution_count": 179,
   "metadata": {},
   "outputs": [],
   "source": [
    "#新的document TF\n",
    "call_all_document_dictionary = all_document_word_dictionary()  \n",
    "call_get_all_document_content = get_all_document_content() \n",
    "\n",
    "documentTF = []\n",
    "for i in call_get_all_document_content:\n",
    "        documentTFinner = [] \n",
    "        for j in call_all_document_dictionary:\n",
    "            documentTFinner.append(i.count(j))\n",
    "        documentTF.append(documentTFinner)    "
   ]
  },
  {
   "cell_type": "code",
   "execution_count": 198,
   "metadata": {},
   "outputs": [
    {
     "name": "stderr",
     "output_type": "stream",
     "text": [
      "C:\\anaconda\\lib\\site-packages\\sklearn\\preprocessing\\data.py:189: UserWarning: Numerical issues were encountered when scaling the data and might not be solved. The standard deviation of the data is probably very close to 0. \n",
      "  warnings.warn(\"Numerical issues were encountered \"\n"
     ]
    }
   ],
   "source": [
    "#qtfL\n",
    "#dtfL\n",
    "#idfL\n",
    "import math\n",
    "query_TFIDF_all = []\n",
    "for i in range(16):\n",
    "    query_TFIDF_one = []\n",
    "    for j in range(13290):\n",
    "        q = qtfL[i][j] \n",
    "        a = (0.5 + 0.5*(q/max(qtfL[i])))*idfL[j]\n",
    "        query_TFIDF_one.append(a)\n",
    "    query_TFIDF_all.append(query_TFIDF_one)\n",
    "    \n",
    "u = preprocessing.scale(query_TFIDF_all)\n"
   ]
  },
  {
   "cell_type": "code",
   "execution_count": 200,
   "metadata": {},
   "outputs": [
    {
     "name": "stderr",
     "output_type": "stream",
     "text": [
      "C:\\anaconda\\lib\\site-packages\\sklearn\\preprocessing\\data.py:189: UserWarning: Numerical issues were encountered when scaling the data and might not be solved. The standard deviation of the data is probably very close to 0. \n",
      "  warnings.warn(\"Numerical issues were encountered \"\n"
     ]
    }
   ],
   "source": [
    "#qtfL\n",
    "#dtfL\n",
    "#idfL\n",
    "import math\n",
    "document_TFIDF_all = []\n",
    "for i in range(2265):\n",
    "    document_TFIDF_one = []\n",
    "    for j in range(13290):\n",
    "        d = documentTF[i][j] \n",
    "        a = (0.5 + 0.5*(d/max(documentTF[i])))*idfL[j]\n",
    "        document_TFIDF_one.append(a)\n",
    "    document_TFIDF_all.append(document_TFIDF_one)\n",
    "    \n",
    "d = preprocessing.scale(document_TFIDF_all)"
   ]
  },
  {
   "cell_type": "code",
   "execution_count": 201,
   "metadata": {},
   "outputs": [],
   "source": [
    "from sklearn import preprocessing\n",
    "from sklearn.preprocessing import normalize\n",
    "from sklearn.linear_model import LogisticRegression"
   ]
  },
  {
   "cell_type": "code",
   "execution_count": 202,
   "metadata": {},
   "outputs": [],
   "source": [
    "import os\n",
    "import math\n",
    "import numpy as np\n",
    "\n",
    "\n",
    "query_array = []\n",
    "for i in range(16):\n",
    "    document_array = []\n",
    "    for j in range(2265):\n",
    "        dic={}\n",
    "        a = np.array(u[i])\n",
    "        b = np.array(d[j])\n",
    "        al = np.sqrt(a.dot(a))\n",
    "        bl = np.sqrt(b.dot(b))\n",
    "        x = np.dot(a,b)\n",
    "        y = al * bl\n",
    "        cosval = (x / y)\n",
    "        \n",
    "        dic['fileName'] = lines[j]\n",
    "        dic['cosval'] = cosval\n",
    "        document_array.append(dic)\n",
    "     \n",
    "    document_array.sort(key=lambda k: k['cosval'], reverse=True) \n",
    "    \n",
    "    \n",
    "    oneLine = {}\n",
    "    oneLine[\"queryName\"] = liness[i]\n",
    "    oneLine[\"content\"] = \"\"\n",
    "    \n",
    "    for queryRes in document_array:\n",
    "        oneLine[\"content\"] = oneLine[\"content\"] + queryRes['fileName'] + \" \"\n",
    "    query_array.append(oneLine)\n",
    "    "
   ]
  },
  {
   "cell_type": "code",
   "execution_count": 203,
   "metadata": {},
   "outputs": [],
   "source": [
    "f = open(\"C:/Users/123/Desktop/submission2.txt\" , 'w')\n",
    "\n",
    "f.write(\"Query,RetrievedDocuments\" )\n",
    "f.write('\\n')\n",
    "for value in query_array:\n",
    "    f.write(value[\"queryName\"] + \",\" + value[\"content\"] + \"\\r\\n\")\n",
    "    f.write('\\n')\n",
    "\n",
    "f.close()"
   ]
  },
  {
   "cell_type": "code",
   "execution_count": null,
   "metadata": {},
   "outputs": [],
   "source": []
  },
  {
   "cell_type": "code",
   "execution_count": null,
   "metadata": {},
   "outputs": [],
   "source": []
  },
  {
   "cell_type": "code",
   "execution_count": null,
   "metadata": {},
   "outputs": [],
   "source": []
  },
  {
   "cell_type": "code",
   "execution_count": null,
   "metadata": {},
   "outputs": [],
   "source": []
  },
  {
   "cell_type": "code",
   "execution_count": null,
   "metadata": {},
   "outputs": [],
   "source": []
  },
  {
   "cell_type": "code",
   "execution_count": null,
   "metadata": {},
   "outputs": [],
   "source": []
  },
  {
   "cell_type": "code",
   "execution_count": null,
   "metadata": {},
   "outputs": [],
   "source": []
  },
  {
   "cell_type": "code",
   "execution_count": null,
   "metadata": {},
   "outputs": [],
   "source": []
  },
  {
   "cell_type": "code",
   "execution_count": null,
   "metadata": {},
   "outputs": [],
   "source": []
  },
  {
   "cell_type": "code",
   "execution_count": null,
   "metadata": {},
   "outputs": [],
   "source": []
  },
  {
   "cell_type": "markdown",
   "metadata": {},
   "source": [
    "# 測試"
   ]
  },
  {
   "cell_type": "code",
   "execution_count": 242,
   "metadata": {},
   "outputs": [],
   "source": [
    "with open('C:/Users/123/Desktop/document_IDF.txt') as ff:\n",
    "     idfList = ff.read().splitlines()\n",
    "with open('C:/Users/123/Desktop/query_TF.txt') as dd:\n",
    "     queryTF = dd.read().splitlines()\n",
    "with open('C:/Users/123/Desktop/document_word.txt') as yy:\n",
    "     wordnumber  = yy.read().splitlines()   \n",
    "        \n",
    "\n",
    "qtfL = []\n",
    "idfL = []\n",
    "for i in range(len(wordnumber)):\n",
    "    a_temp = float(idfList[i].split()[1])\n",
    "    idfL.append(a_temp)\n",
    "    b_temp = float(queryTF[i].split()[1])\n",
    "    qtfL.append(b_temp)"
   ]
  },
  {
   "cell_type": "code",
   "execution_count": 208,
   "metadata": {
    "scrolled": true
   },
   "outputs": [],
   "source": [
    "\n",
    "#def document_IDF():\n",
    "    #import math\n",
    "    #document_file_number = 2265\n",
    "    #fname = \"C:/Users/123/Desktop/document_IDF.txt\" \n",
    "    #f = open(fname, 'w')\n",
    "    \n",
    "    #document_word_dictionary = all_document_word_dictionary()\n",
    "    #call_get_all_document_content = get_all_document_content()  \n",
    "\n",
    "    #for number in document_word_dictionary:\n",
    "        #number_count = 0\n",
    "        #for one_document_content in call_get_all_document_content:\n",
    "            #if number in one_document_content.split(''):\n",
    "                #number_count = number_count + 1\n",
    "        #if number_count == 0:\n",
    "            #IDF = 0\n",
    "        #else:    \n",
    "            #IDF = math.log(document_file_number / number_count)   \n",
    "        #strWrite3 = str(number) + \" \"  + str(IDF)\n",
    "\n",
    "        #f.write(strWrite3 + \"\\n\")\n",
    "    #f.close() \n",
    "        \n",
    "#with open('C:/Users/123/Desktop/document_IDF.txt') as ff:\n",
    "     #bbb = ff.read().splitlines()\n",
    "#bbb"
   ]
  },
  {
   "cell_type": "code",
   "execution_count": 209,
   "metadata": {},
   "outputs": [],
   "source": [
    "with open('C:/Users/123/Desktop/document_IDF.txt') as ff:\n",
    "     bbb = ff.read().splitlines()"
   ]
  },
  {
   "cell_type": "code",
   "execution_count": 210,
   "metadata": {
    "scrolled": true
   },
   "outputs": [],
   "source": [
    "with open('C:/Users/123/Desktop/document_TF.txt') as bb:\n",
    "     bbb = bb.read().splitlines()"
   ]
  },
  {
   "cell_type": "code",
   "execution_count": 257,
   "metadata": {},
   "outputs": [],
   "source": [
    "def document_TF():\n",
    "    call_all_document_dictionary = all_document_word_dictionary()  \n",
    "    call_get_all_document_content = get_all_document_content() \n",
    "    \n",
    "    fname = 'C:/Users/123/Desktop/document_TF.txt'\n",
    "    f = open(fname, 'w')\n",
    "    for number in call_all_document_dictionary:\n",
    "        strWrite = str(number) \n",
    "        for one_document in call_get_all_document_content:\n",
    "            strWrite = strWrite + \" \"  + str(one_document.count(number))\n",
    "        f.write(strWrite + \"\\n\")\n",
    "    f.close() \n",
    "document_TF()\n",
    "    "
   ]
  },
  {
   "cell_type": "code",
   "execution_count": 211,
   "metadata": {},
   "outputs": [],
   "source": [
    "def query_dictionary():\n",
    "    path = \"C:/Users/123/Desktop/Query\"\n",
    "    all_query_file = os.listdir(path)\n",
    "    array = []\n",
    "    for query_file in all_query_file:\n",
    "        query_file_content = open(path + '/' + query_file)\n",
    "        strtemp = \" \"\n",
    "        for line in query_file_content:\n",
    "            strtemp = strtemp + line.rstrip(\"-1\\r\\n\")   \n",
    "        dictionary = {}\n",
    "        dictionary['query_name'] = query_file\n",
    "        dictionary['query_content'] = strtemp\n",
    "        array.append(dictionary) \n",
    "    return array\n",
    "    \n",
    "    fname = 'C:/Users/123/Desktop/all_query_name_and_content.txt'\n",
    "    f = open(fname, 'w')\n",
    "    for query in array:\n",
    "        strWrite = query[\"query_name\"] + query[\"query_content\"]\n",
    "        f.write(strWrite + \"\\n\")\n",
    "    f.close() "
   ]
  },
  {
   "cell_type": "code",
   "execution_count": 214,
   "metadata": {},
   "outputs": [],
   "source": [
    "with open('C:/Users/123/Desktop/all_query_name_and_content.txt') as oo:\n",
    "     querycontent = oo.read().splitlines()"
   ]
  },
  {
   "cell_type": "code",
   "execution_count": 157,
   "metadata": {},
   "outputs": [
    {
     "data": {
      "text/plain": [
       "13290"
      ]
     },
     "execution_count": 157,
     "metadata": {},
     "output_type": "execute_result"
    }
   ],
   "source": [
    "with open('C:/Users/123/Desktop/document_word.txt') as ff:\n",
    "     mmm = ff.read().splitlines()\n",
    "len(mmm)"
   ]
  },
  {
   "cell_type": "code",
   "execution_count": null,
   "metadata": {},
   "outputs": [],
   "source": []
  },
  {
   "cell_type": "code",
   "execution_count": 212,
   "metadata": {},
   "outputs": [],
   "source": [
    "path = 'C:/Users/123/Desktop/Document'\n",
    "document_list = os.listdir(path)"
   ]
  },
  {
   "cell_type": "code",
   "execution_count": 364,
   "metadata": {},
   "outputs": [
    {
     "data": {
      "text/plain": [
       "2265"
      ]
     },
     "execution_count": 364,
     "metadata": {},
     "output_type": "execute_result"
    }
   ],
   "source": [
    "len(filename_list)"
   ]
  },
  {
   "cell_type": "code",
   "execution_count": 103,
   "metadata": {},
   "outputs": [
    {
     "data": {
      "text/plain": [
       "2265"
      ]
     },
     "execution_count": 103,
     "metadata": {},
     "output_type": "execute_result"
    }
   ],
   "source": [
    "with open('C:/Users/123/Desktop/Document.txt') as zz:\n",
    "     zzz = zz.read()  \n",
    "len(get_all_document_content()) "
   ]
  },
  {
   "cell_type": "code",
   "execution_count": 213,
   "metadata": {},
   "outputs": [],
   "source": [
    "with open('C:/Users/123/Desktop/Document.txt') as yy:\n",
    "     yyy = yy.read().split()   "
   ]
  },
  {
   "cell_type": "code",
   "execution_count": null,
   "metadata": {},
   "outputs": [],
   "source": [
    "a = [\"40889 1 5 2 4 6 5 8 5 8 9 5 8 5 8 5 8 2 4 7 5 2 5 8 5 2 5\",\"56123 5 9 6 4 2 1 7 8 3 6 9 5 8 6 5\" ]"
   ]
  },
  {
   "cell_type": "code",
   "execution_count": 155,
   "metadata": {},
   "outputs": [
    {
     "data": {
      "text/plain": [
       "[40889.0, 56123.0]"
      ]
     },
     "execution_count": 155,
     "metadata": {},
     "output_type": "execute_result"
    }
   ],
   "source": [
    "list1 = []\n",
    "for i in range(len(a)):\n",
    "    for j in range(len(a[i].split(\" \"))-1):\n",
    "        c = list(map(float,a[i].split(\" \")))[0]\n",
    "    list1.append(c)  \n",
    "list1    "
   ]
  },
  {
   "cell_type": "code",
   "execution_count": 161,
   "metadata": {},
   "outputs": [
    {
     "data": {
      "text/plain": [
       "[2.0383546815773146]"
      ]
     },
     "execution_count": 161,
     "metadata": {},
     "output_type": "execute_result"
    }
   ],
   "source": [
    "idfList = ['40889 2.0383546815773146',\n",
    " '44022 3.3186107906528814',\n",
    " '10092 2.701449517070858',\n",
    " '2471 1.177110935154762',\n",
    " '9800 3.3064894301205365',]\n",
    "idfL = []\n",
    "c = list(map(float, idfList[0].split()))[1]\n",
    "idfL.append(c)\n",
    "idfL"
   ]
  },
  {
   "cell_type": "code",
   "execution_count": 165,
   "metadata": {},
   "outputs": [
    {
     "data": {
      "text/plain": [
       "[13.0]"
      ]
     },
     "execution_count": 165,
     "metadata": {},
     "output_type": "execute_result"
    }
   ],
   "source": [
    "querTF = ['40889 0 0 0 0 13 0 3 0 0 0 0 0 0 0 0 2',\n",
    " '44022 0 0 0 0 7 0 0 0 0 0 0 0 0 0 0 0',\n",
    " '10092 0 0 0 0 0 0 0 0 0 0 0 0 0 0 0 0',\n",
    " '2471 1 2 4 0 0 0 0 1 2 0 0 1 0 0 0 3',\n",
    " '9800 0 0 0 0 0 0 0 0 0 0 0 0 0 0 0 0']\n",
    "qtfL = []\n",
    "b = list(map(float, querTF[0].split()))[5]\n",
    "qtfL.append(b)\n",
    "qtfL"
   ]
  },
  {
   "cell_type": "code",
   "execution_count": null,
   "metadata": {},
   "outputs": [],
   "source": []
  }
 ],
 "metadata": {
  "kernelspec": {
   "display_name": "Python 3",
   "language": "python",
   "name": "python3"
  },
  "language_info": {
   "codemirror_mode": {
    "name": "ipython",
    "version": 3
   },
   "file_extension": ".py",
   "mimetype": "text/x-python",
   "name": "python",
   "nbconvert_exporter": "python",
   "pygments_lexer": "ipython3",
   "version": "3.7.3"
  }
 },
 "nbformat": 4,
 "nbformat_minor": 2
}
